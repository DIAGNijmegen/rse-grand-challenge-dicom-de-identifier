{
 "cells": [
  {
   "cell_type": "markdown",
   "metadata": {},
   "source": [
    "# Unit of Knowledge Template\n",
    "\n",
    "Explain here how your code works and what one needs to do to run your experiment. Also explain how graphs are generated and what the most important data structures are (for example, hdf5 file formats).\n",
    "\n",
    "## Code\n",
    "\n",
    "Try to treat this file as an \"entrypoint\" to your experiment. Invocations should, if possible be short an concise. \n",
    "\n",
    "Example:"
   ]
  },
  {
   "cell_type": "code",
   "execution_count": 1,
   "metadata": {},
   "outputs": [
    {
     "name": "stdout",
     "output_type": "stream",
     "text": [
      "/home/paul/code/work/unit-of-knowledge-template\n"
     ]
    }
   ],
   "source": [
    "# This code prints the current woorking directory\n",
    "\n",
    "import os\n",
    "print(os.path.abspath(os.path.curdir))"
   ]
  },
  {
   "cell_type": "markdown",
   "metadata": {},
   "source": [
    "## Different languages\n",
    "\n",
    "You do not need to use python for writing your unit of knwoledge. You can also use the jupyter notebook to invoke bash scripts (or other scripts) directly, if that is more convenient. Example:"
   ]
  },
  {
   "cell_type": "code",
   "execution_count": 2,
   "metadata": {},
   "outputs": [
    {
     "name": "stdout",
     "output_type": "stream",
     "text": [
      "This is the content of this repository:\n",
      "insgesamt 36K\n",
      "drwxrwxr-x 4 paul paul 4,0K Jan 21 23:05 .\n",
      "drwxrwxr-x 6 paul paul 4,0K Jan 21 17:20 ..\n",
      "-rw-rw-r-- 1 paul paul 2,7K Jan 21 17:48 Dockerfile.template\n",
      "drwxrwxr-x 8 paul paul 4,0K Jan 21 22:58 .git\n",
      "drwxrwxr-x 2 paul paul 4,0K Jan 21 22:59 .ipynb_checkpoints\n",
      "-rw-rw-r-- 1 paul paul 1,4K Jan 21 18:20 prepare_data.py_template\n",
      "-rw-rw-r-- 1 paul paul  690 Jan 21 18:09 prepare_data.sh_template\n",
      "-rw-rw-r-- 1 paul paul 2,1K Jan 21 18:01 README.md\n",
      "-rw-rw-r-- 1 paul paul 2,8K Jan 21 23:05 Untitled.ipynb\n"
     ]
    }
   ],
   "source": [
    "%%bash\n",
    "\n",
    "echo \"This is the content of this repository:\"\n",
    "ls -lah ."
   ]
  },
  {
   "cell_type": "code",
   "execution_count": null,
   "metadata": {},
   "outputs": [],
   "source": []
  }
 ],
 "metadata": {
  "kernelspec": {
   "display_name": "Python 3",
   "language": "python",
   "name": "python3"
  },
  "language_info": {
   "codemirror_mode": {
    "name": "ipython",
    "version": 3
   },
   "file_extension": ".py",
   "mimetype": "text/x-python",
   "name": "python",
   "nbconvert_exporter": "python",
   "pygments_lexer": "ipython3",
   "version": "3.5.2"
  }
 },
 "nbformat": 4,
 "nbformat_minor": 2
}
